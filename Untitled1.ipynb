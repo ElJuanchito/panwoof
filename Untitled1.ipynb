{
  "nbformat": 4,
  "nbformat_minor": 0,
  "metadata": {
    "colab": {
      "provenance": [],
      "authorship_tag": "ABX9TyOWDuzTMKnCKbhc202Jhfk5",
      "include_colab_link": true
    },
    "kernelspec": {
      "name": "python3",
      "display_name": "Python 3"
    },
    "language_info": {
      "name": "python"
    }
  },
  "cells": [
    {
      "cell_type": "markdown",
      "metadata": {
        "id": "view-in-github",
        "colab_type": "text"
      },
      "source": [
        "<a href=\"https://colab.research.google.com/github/ElJuanchito/panwoof/blob/main/Untitled1.ipynb\" target=\"_parent\"><img src=\"https://colab.research.google.com/assets/colab-badge.svg\" alt=\"Open In Colab\"/></a>"
      ]
    },
    {
      "cell_type": "code",
      "execution_count": 1,
      "metadata": {
        "colab": {
          "base_uri": "https://localhost:8080/"
        },
        "id": "WhFMIdkUBFi5",
        "outputId": "0aa09533-d8fb-4d7d-9005-5093f95809c6"
      },
      "outputs": [
        {
          "output_type": "stream",
          "name": "stdout",
          "text": [
            "el valor de var1: 4\n",
            "4\n"
          ]
        }
      ],
      "source": [
        "var1 = 4\n",
        "var2 = 5.0\n",
        "var3 = True\n",
        "var4 = \"python\"\n",
        "print(\"el valor de var1:\", var1)\n",
        "print(var1)"
      ]
    },
    {
      "cell_type": "code",
      "source": [
        "print(var1)\n",
        "print(type(var1))\n",
        "print(var2)\n",
        "print(type(var2))\n",
        "print(var3)\n",
        "print(type(var3))\n",
        "print(var4)\n",
        "print(type(var4))"
      ],
      "metadata": {
        "colab": {
          "base_uri": "https://localhost:8080/"
        },
        "id": "htkMY6N6Ch84",
        "outputId": "82032cda-0601-4a9d-d983-97770e914763"
      },
      "execution_count": 2,
      "outputs": [
        {
          "output_type": "stream",
          "name": "stdout",
          "text": [
            "4\n",
            "<class 'int'>\n",
            "5.0\n",
            "<class 'float'>\n",
            "True\n",
            "<class 'bool'>\n",
            "python\n",
            "<class 'str'>\n"
          ]
        }
      ]
    },
    {
      "cell_type": "code",
      "source": [
        "if var1 > 5:\n",
        "  print(\"el valor de var1 es mayor a 5\")\n",
        "elif var1 > 3 and var1 <= 5:\n",
        "  print(\"el valor de var1 es mayor a 3 y menor que 5\")\n",
        "else:\n",
        "  print(\"el valor de var1 es menor o igual a 3\")\n",
        "\n"
      ],
      "metadata": {
        "colab": {
          "base_uri": "https://localhost:8080/"
        },
        "id": "S2wTsfHjF46E",
        "outputId": "a6cb957e-a9eb-45c2-b418-7a2afc82a631"
      },
      "execution_count": 4,
      "outputs": [
        {
          "output_type": "stream",
          "name": "stdout",
          "text": [
            "el valor de var1 es mayor a 3 y menor que 5\n"
          ]
        }
      ]
    }
  ]
}