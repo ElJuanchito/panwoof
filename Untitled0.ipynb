{
  "nbformat": 4,
  "nbformat_minor": 0,
  "metadata": {
    "colab": {
      "provenance": [],
      "authorship_tag": "ABX9TyMxYsmAhiVahvGzTePkPvTb",
      "include_colab_link": true
    },
    "kernelspec": {
      "name": "python3",
      "display_name": "Python 3"
    },
    "language_info": {
      "name": "python"
    }
  },
  "cells": [
    {
      "cell_type": "markdown",
      "metadata": {
        "id": "view-in-github",
        "colab_type": "text"
      },
      "source": [
        "<a href=\"https://colab.research.google.com/github/ElJuanchito/panwoof/blob/main/Untitled0.ipynb\" target=\"_parent\"><img src=\"https://colab.research.google.com/assets/colab-badge.svg\" alt=\"Open In Colab\"/></a>"
      ]
    },
    {
      "cell_type": "code",
      "execution_count": null,
      "metadata": {
        "colab": {
          "base_uri": "https://localhost:8080/"
        },
        "id": "Z48xyPD5u3Pu",
        "outputId": "5f8b26a4-2e0a-499f-9783-a4ac8e120864"
      },
      "outputs": [
        {
          "output_type": "stream",
          "name": "stdout",
          "text": [
            "harby\n",
            "aponte\n",
            "Harby Aponte!\n",
            "¡hola Harby Aponte!\n",
            "¡Hola Harby Aponte! ,espero estes muy bien!\n"
          ]
        }
      ],
      "source": [
        "nombre = (\"harby\")\n",
        "print (nombre)\n",
        "apellido = (\"aponte\")\n",
        "print (apellido)\n",
        "ncompleto = (\"harby aponte!\")\n",
        "print (ncompleto.title())\n",
        "saludo = (\"¡hola\")\n",
        "scompleto = f\"{saludo} {ncompleto.title()}\"\n",
        "print (scompleto)\n",
        "mj = (\",espero estes muy bien!\")\n",
        "mj2 = f\"{saludo.title()} {ncompleto.title()} {mj}\"\n",
        "print(mj2)"
      ]
    }
  ]
}